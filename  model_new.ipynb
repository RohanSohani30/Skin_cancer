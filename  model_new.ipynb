{
 "cells": [
  {
   "cell_type": "markdown",
   "id": "daac8259",
   "metadata": {},
   "source": [
    "# Reading of datasets"
   ]
  },
  {
   "cell_type": "raw",
   "id": "77a8bc9c",
   "metadata": {},
   "source": [
    "dignosis/cancer types:\n",
    "Actinic keratoses and intraepithelial carcinoma / Bowen's disease (akiec), \n",
    "basal cell carcinoma (bcc), \n",
    "benign keratosis-like lesions (solar lentigines / seborrheic keratoses and lichen-planus like keratoses, bkl), \n",
    "dermatofibroma (df), \n",
    "melanoma (mel), \n",
    "melanocytic nevi (nv)\n",
    "vascular lesions (angiomas, angiokeratomas, pyogenic granulomas and hemorrhage, vasc)."
   ]
  },
  {
   "cell_type": "markdown",
   "id": "0267bddf",
   "metadata": {},
   "source": [
    "## Approach 1: Model Building on Meta data"
   ]
  },
  {
   "cell_type": "code",
   "execution_count": 66,
   "id": "a5a71737",
   "metadata": {},
   "outputs": [],
   "source": [
    "import pandas as pd"
   ]
  },
  {
   "cell_type": "code",
   "execution_count": 67,
   "id": "f78af704",
   "metadata": {},
   "outputs": [],
   "source": [
    "meta=pd.read_csv('HAM10000_metadata.csv')\n",
    "pxl=pd.read_csv('hmnist_8_8_L.csv')"
   ]
  },
  {
   "cell_type": "code",
   "execution_count": 68,
   "id": "72e4b454",
   "metadata": {},
   "outputs": [
    {
     "data": {
      "text/html": [
       "<div>\n",
       "<style scoped>\n",
       "    .dataframe tbody tr th:only-of-type {\n",
       "        vertical-align: middle;\n",
       "    }\n",
       "\n",
       "    .dataframe tbody tr th {\n",
       "        vertical-align: top;\n",
       "    }\n",
       "\n",
       "    .dataframe thead th {\n",
       "        text-align: right;\n",
       "    }\n",
       "</style>\n",
       "<table border=\"1\" class=\"dataframe\">\n",
       "  <thead>\n",
       "    <tr style=\"text-align: right;\">\n",
       "      <th></th>\n",
       "      <th>lesion_id</th>\n",
       "      <th>image_id</th>\n",
       "      <th>dx</th>\n",
       "      <th>dx_type</th>\n",
       "      <th>age</th>\n",
       "      <th>sex</th>\n",
       "      <th>localization</th>\n",
       "    </tr>\n",
       "  </thead>\n",
       "  <tbody>\n",
       "    <tr>\n",
       "      <th>0</th>\n",
       "      <td>HAM_0000118</td>\n",
       "      <td>ISIC_0027419</td>\n",
       "      <td>bkl</td>\n",
       "      <td>histo</td>\n",
       "      <td>80.0</td>\n",
       "      <td>male</td>\n",
       "      <td>scalp</td>\n",
       "    </tr>\n",
       "    <tr>\n",
       "      <th>1</th>\n",
       "      <td>HAM_0000118</td>\n",
       "      <td>ISIC_0025030</td>\n",
       "      <td>bkl</td>\n",
       "      <td>histo</td>\n",
       "      <td>80.0</td>\n",
       "      <td>male</td>\n",
       "      <td>scalp</td>\n",
       "    </tr>\n",
       "    <tr>\n",
       "      <th>2</th>\n",
       "      <td>HAM_0002730</td>\n",
       "      <td>ISIC_0026769</td>\n",
       "      <td>bkl</td>\n",
       "      <td>histo</td>\n",
       "      <td>80.0</td>\n",
       "      <td>male</td>\n",
       "      <td>scalp</td>\n",
       "    </tr>\n",
       "    <tr>\n",
       "      <th>3</th>\n",
       "      <td>HAM_0002730</td>\n",
       "      <td>ISIC_0025661</td>\n",
       "      <td>bkl</td>\n",
       "      <td>histo</td>\n",
       "      <td>80.0</td>\n",
       "      <td>male</td>\n",
       "      <td>scalp</td>\n",
       "    </tr>\n",
       "    <tr>\n",
       "      <th>4</th>\n",
       "      <td>HAM_0001466</td>\n",
       "      <td>ISIC_0031633</td>\n",
       "      <td>bkl</td>\n",
       "      <td>histo</td>\n",
       "      <td>75.0</td>\n",
       "      <td>male</td>\n",
       "      <td>ear</td>\n",
       "    </tr>\n",
       "    <tr>\n",
       "      <th>...</th>\n",
       "      <td>...</td>\n",
       "      <td>...</td>\n",
       "      <td>...</td>\n",
       "      <td>...</td>\n",
       "      <td>...</td>\n",
       "      <td>...</td>\n",
       "      <td>...</td>\n",
       "    </tr>\n",
       "    <tr>\n",
       "      <th>10010</th>\n",
       "      <td>HAM_0002867</td>\n",
       "      <td>ISIC_0033084</td>\n",
       "      <td>akiec</td>\n",
       "      <td>histo</td>\n",
       "      <td>40.0</td>\n",
       "      <td>male</td>\n",
       "      <td>abdomen</td>\n",
       "    </tr>\n",
       "    <tr>\n",
       "      <th>10011</th>\n",
       "      <td>HAM_0002867</td>\n",
       "      <td>ISIC_0033550</td>\n",
       "      <td>akiec</td>\n",
       "      <td>histo</td>\n",
       "      <td>40.0</td>\n",
       "      <td>male</td>\n",
       "      <td>abdomen</td>\n",
       "    </tr>\n",
       "    <tr>\n",
       "      <th>10012</th>\n",
       "      <td>HAM_0002867</td>\n",
       "      <td>ISIC_0033536</td>\n",
       "      <td>akiec</td>\n",
       "      <td>histo</td>\n",
       "      <td>40.0</td>\n",
       "      <td>male</td>\n",
       "      <td>abdomen</td>\n",
       "    </tr>\n",
       "    <tr>\n",
       "      <th>10013</th>\n",
       "      <td>HAM_0000239</td>\n",
       "      <td>ISIC_0032854</td>\n",
       "      <td>akiec</td>\n",
       "      <td>histo</td>\n",
       "      <td>80.0</td>\n",
       "      <td>male</td>\n",
       "      <td>face</td>\n",
       "    </tr>\n",
       "    <tr>\n",
       "      <th>10014</th>\n",
       "      <td>HAM_0003521</td>\n",
       "      <td>ISIC_0032258</td>\n",
       "      <td>mel</td>\n",
       "      <td>histo</td>\n",
       "      <td>70.0</td>\n",
       "      <td>female</td>\n",
       "      <td>back</td>\n",
       "    </tr>\n",
       "  </tbody>\n",
       "</table>\n",
       "<p>10015 rows × 7 columns</p>\n",
       "</div>"
      ],
      "text/plain": [
       "         lesion_id      image_id     dx dx_type   age     sex localization\n",
       "0      HAM_0000118  ISIC_0027419    bkl   histo  80.0    male        scalp\n",
       "1      HAM_0000118  ISIC_0025030    bkl   histo  80.0    male        scalp\n",
       "2      HAM_0002730  ISIC_0026769    bkl   histo  80.0    male        scalp\n",
       "3      HAM_0002730  ISIC_0025661    bkl   histo  80.0    male        scalp\n",
       "4      HAM_0001466  ISIC_0031633    bkl   histo  75.0    male          ear\n",
       "...            ...           ...    ...     ...   ...     ...          ...\n",
       "10010  HAM_0002867  ISIC_0033084  akiec   histo  40.0    male      abdomen\n",
       "10011  HAM_0002867  ISIC_0033550  akiec   histo  40.0    male      abdomen\n",
       "10012  HAM_0002867  ISIC_0033536  akiec   histo  40.0    male      abdomen\n",
       "10013  HAM_0000239  ISIC_0032854  akiec   histo  80.0    male         face\n",
       "10014  HAM_0003521  ISIC_0032258    mel   histo  70.0  female         back\n",
       "\n",
       "[10015 rows x 7 columns]"
      ]
     },
     "execution_count": 68,
     "metadata": {},
     "output_type": "execute_result"
    }
   ],
   "source": [
    "meta"
   ]
  },
  {
   "cell_type": "code",
   "execution_count": 69,
   "id": "9b98e642",
   "metadata": {},
   "outputs": [
    {
     "data": {
      "text/html": [
       "<div>\n",
       "<style scoped>\n",
       "    .dataframe tbody tr th:only-of-type {\n",
       "        vertical-align: middle;\n",
       "    }\n",
       "\n",
       "    .dataframe tbody tr th {\n",
       "        vertical-align: top;\n",
       "    }\n",
       "\n",
       "    .dataframe thead th {\n",
       "        text-align: right;\n",
       "    }\n",
       "</style>\n",
       "<table border=\"1\" class=\"dataframe\">\n",
       "  <thead>\n",
       "    <tr style=\"text-align: right;\">\n",
       "      <th></th>\n",
       "      <th>pixel0000</th>\n",
       "      <th>pixel0001</th>\n",
       "      <th>pixel0002</th>\n",
       "      <th>pixel0003</th>\n",
       "      <th>pixel0004</th>\n",
       "      <th>pixel0005</th>\n",
       "      <th>pixel0006</th>\n",
       "      <th>pixel0007</th>\n",
       "      <th>pixel0008</th>\n",
       "      <th>pixel0009</th>\n",
       "      <th>...</th>\n",
       "      <th>pixel0055</th>\n",
       "      <th>pixel0056</th>\n",
       "      <th>pixel0057</th>\n",
       "      <th>pixel0058</th>\n",
       "      <th>pixel0059</th>\n",
       "      <th>pixel0060</th>\n",
       "      <th>pixel0061</th>\n",
       "      <th>pixel0062</th>\n",
       "      <th>pixel0063</th>\n",
       "      <th>label</th>\n",
       "    </tr>\n",
       "  </thead>\n",
       "  <tbody>\n",
       "    <tr>\n",
       "      <th>0</th>\n",
       "      <td>172</td>\n",
       "      <td>182</td>\n",
       "      <td>191</td>\n",
       "      <td>183</td>\n",
       "      <td>180</td>\n",
       "      <td>181</td>\n",
       "      <td>165</td>\n",
       "      <td>164</td>\n",
       "      <td>173</td>\n",
       "      <td>192</td>\n",
       "      <td>...</td>\n",
       "      <td>159</td>\n",
       "      <td>171</td>\n",
       "      <td>181</td>\n",
       "      <td>201</td>\n",
       "      <td>192</td>\n",
       "      <td>184</td>\n",
       "      <td>183</td>\n",
       "      <td>171</td>\n",
       "      <td>157</td>\n",
       "      <td>2</td>\n",
       "    </tr>\n",
       "    <tr>\n",
       "      <th>1</th>\n",
       "      <td>98</td>\n",
       "      <td>149</td>\n",
       "      <td>170</td>\n",
       "      <td>193</td>\n",
       "      <td>183</td>\n",
       "      <td>162</td>\n",
       "      <td>164</td>\n",
       "      <td>100</td>\n",
       "      <td>137</td>\n",
       "      <td>175</td>\n",
       "      <td>...</td>\n",
       "      <td>135</td>\n",
       "      <td>83</td>\n",
       "      <td>159</td>\n",
       "      <td>186</td>\n",
       "      <td>185</td>\n",
       "      <td>192</td>\n",
       "      <td>181</td>\n",
       "      <td>143</td>\n",
       "      <td>58</td>\n",
       "      <td>2</td>\n",
       "    </tr>\n",
       "    <tr>\n",
       "      <th>2</th>\n",
       "      <td>165</td>\n",
       "      <td>164</td>\n",
       "      <td>179</td>\n",
       "      <td>172</td>\n",
       "      <td>152</td>\n",
       "      <td>163</td>\n",
       "      <td>169</td>\n",
       "      <td>151</td>\n",
       "      <td>168</td>\n",
       "      <td>174</td>\n",
       "      <td>...</td>\n",
       "      <td>169</td>\n",
       "      <td>152</td>\n",
       "      <td>171</td>\n",
       "      <td>185</td>\n",
       "      <td>189</td>\n",
       "      <td>193</td>\n",
       "      <td>176</td>\n",
       "      <td>168</td>\n",
       "      <td>151</td>\n",
       "      <td>2</td>\n",
       "    </tr>\n",
       "    <tr>\n",
       "      <th>3</th>\n",
       "      <td>109</td>\n",
       "      <td>159</td>\n",
       "      <td>167</td>\n",
       "      <td>166</td>\n",
       "      <td>163</td>\n",
       "      <td>159</td>\n",
       "      <td>155</td>\n",
       "      <td>96</td>\n",
       "      <td>141</td>\n",
       "      <td>168</td>\n",
       "      <td>...</td>\n",
       "      <td>101</td>\n",
       "      <td>79</td>\n",
       "      <td>146</td>\n",
       "      <td>170</td>\n",
       "      <td>167</td>\n",
       "      <td>158</td>\n",
       "      <td>154</td>\n",
       "      <td>133</td>\n",
       "      <td>45</td>\n",
       "      <td>2</td>\n",
       "    </tr>\n",
       "    <tr>\n",
       "      <th>4</th>\n",
       "      <td>173</td>\n",
       "      <td>202</td>\n",
       "      <td>210</td>\n",
       "      <td>194</td>\n",
       "      <td>208</td>\n",
       "      <td>248</td>\n",
       "      <td>243</td>\n",
       "      <td>205</td>\n",
       "      <td>180</td>\n",
       "      <td>142</td>\n",
       "      <td>...</td>\n",
       "      <td>230</td>\n",
       "      <td>160</td>\n",
       "      <td>199</td>\n",
       "      <td>206</td>\n",
       "      <td>208</td>\n",
       "      <td>209</td>\n",
       "      <td>205</td>\n",
       "      <td>200</td>\n",
       "      <td>186</td>\n",
       "      <td>2</td>\n",
       "    </tr>\n",
       "    <tr>\n",
       "      <th>...</th>\n",
       "      <td>...</td>\n",
       "      <td>...</td>\n",
       "      <td>...</td>\n",
       "      <td>...</td>\n",
       "      <td>...</td>\n",
       "      <td>...</td>\n",
       "      <td>...</td>\n",
       "      <td>...</td>\n",
       "      <td>...</td>\n",
       "      <td>...</td>\n",
       "      <td>...</td>\n",
       "      <td>...</td>\n",
       "      <td>...</td>\n",
       "      <td>...</td>\n",
       "      <td>...</td>\n",
       "      <td>...</td>\n",
       "      <td>...</td>\n",
       "      <td>...</td>\n",
       "      <td>...</td>\n",
       "      <td>...</td>\n",
       "      <td>...</td>\n",
       "    </tr>\n",
       "    <tr>\n",
       "      <th>10010</th>\n",
       "      <td>193</td>\n",
       "      <td>192</td>\n",
       "      <td>191</td>\n",
       "      <td>198</td>\n",
       "      <td>182</td>\n",
       "      <td>191</td>\n",
       "      <td>213</td>\n",
       "      <td>202</td>\n",
       "      <td>199</td>\n",
       "      <td>204</td>\n",
       "      <td>...</td>\n",
       "      <td>202</td>\n",
       "      <td>206</td>\n",
       "      <td>215</td>\n",
       "      <td>211</td>\n",
       "      <td>207</td>\n",
       "      <td>196</td>\n",
       "      <td>212</td>\n",
       "      <td>205</td>\n",
       "      <td>191</td>\n",
       "      <td>0</td>\n",
       "    </tr>\n",
       "    <tr>\n",
       "      <th>10011</th>\n",
       "      <td>93</td>\n",
       "      <td>139</td>\n",
       "      <td>165</td>\n",
       "      <td>183</td>\n",
       "      <td>188</td>\n",
       "      <td>180</td>\n",
       "      <td>150</td>\n",
       "      <td>65</td>\n",
       "      <td>147</td>\n",
       "      <td>164</td>\n",
       "      <td>...</td>\n",
       "      <td>137</td>\n",
       "      <td>145</td>\n",
       "      <td>185</td>\n",
       "      <td>194</td>\n",
       "      <td>186</td>\n",
       "      <td>183</td>\n",
       "      <td>180</td>\n",
       "      <td>161</td>\n",
       "      <td>88</td>\n",
       "      <td>0</td>\n",
       "    </tr>\n",
       "    <tr>\n",
       "      <th>10012</th>\n",
       "      <td>165</td>\n",
       "      <td>191</td>\n",
       "      <td>211</td>\n",
       "      <td>227</td>\n",
       "      <td>222</td>\n",
       "      <td>208</td>\n",
       "      <td>210</td>\n",
       "      <td>164</td>\n",
       "      <td>193</td>\n",
       "      <td>203</td>\n",
       "      <td>...</td>\n",
       "      <td>189</td>\n",
       "      <td>184</td>\n",
       "      <td>223</td>\n",
       "      <td>227</td>\n",
       "      <td>218</td>\n",
       "      <td>217</td>\n",
       "      <td>223</td>\n",
       "      <td>207</td>\n",
       "      <td>182</td>\n",
       "      <td>0</td>\n",
       "    </tr>\n",
       "    <tr>\n",
       "      <th>10013</th>\n",
       "      <td>138</td>\n",
       "      <td>152</td>\n",
       "      <td>154</td>\n",
       "      <td>161</td>\n",
       "      <td>173</td>\n",
       "      <td>177</td>\n",
       "      <td>179</td>\n",
       "      <td>171</td>\n",
       "      <td>144</td>\n",
       "      <td>157</td>\n",
       "      <td>...</td>\n",
       "      <td>172</td>\n",
       "      <td>143</td>\n",
       "      <td>161</td>\n",
       "      <td>167</td>\n",
       "      <td>166</td>\n",
       "      <td>174</td>\n",
       "      <td>184</td>\n",
       "      <td>175</td>\n",
       "      <td>168</td>\n",
       "      <td>0</td>\n",
       "    </tr>\n",
       "    <tr>\n",
       "      <th>10014</th>\n",
       "      <td>152</td>\n",
       "      <td>152</td>\n",
       "      <td>150</td>\n",
       "      <td>148</td>\n",
       "      <td>156</td>\n",
       "      <td>159</td>\n",
       "      <td>158</td>\n",
       "      <td>163</td>\n",
       "      <td>153</td>\n",
       "      <td>155</td>\n",
       "      <td>...</td>\n",
       "      <td>140</td>\n",
       "      <td>143</td>\n",
       "      <td>151</td>\n",
       "      <td>153</td>\n",
       "      <td>156</td>\n",
       "      <td>157</td>\n",
       "      <td>163</td>\n",
       "      <td>117</td>\n",
       "      <td>120</td>\n",
       "      <td>6</td>\n",
       "    </tr>\n",
       "  </tbody>\n",
       "</table>\n",
       "<p>10015 rows × 65 columns</p>\n",
       "</div>"
      ],
      "text/plain": [
       "       pixel0000  pixel0001  pixel0002  pixel0003  pixel0004  pixel0005  \\\n",
       "0            172        182        191        183        180        181   \n",
       "1             98        149        170        193        183        162   \n",
       "2            165        164        179        172        152        163   \n",
       "3            109        159        167        166        163        159   \n",
       "4            173        202        210        194        208        248   \n",
       "...          ...        ...        ...        ...        ...        ...   \n",
       "10010        193        192        191        198        182        191   \n",
       "10011         93        139        165        183        188        180   \n",
       "10012        165        191        211        227        222        208   \n",
       "10013        138        152        154        161        173        177   \n",
       "10014        152        152        150        148        156        159   \n",
       "\n",
       "       pixel0006  pixel0007  pixel0008  pixel0009  ...  pixel0055  pixel0056  \\\n",
       "0            165        164        173        192  ...        159        171   \n",
       "1            164        100        137        175  ...        135         83   \n",
       "2            169        151        168        174  ...        169        152   \n",
       "3            155         96        141        168  ...        101         79   \n",
       "4            243        205        180        142  ...        230        160   \n",
       "...          ...        ...        ...        ...  ...        ...        ...   \n",
       "10010        213        202        199        204  ...        202        206   \n",
       "10011        150         65        147        164  ...        137        145   \n",
       "10012        210        164        193        203  ...        189        184   \n",
       "10013        179        171        144        157  ...        172        143   \n",
       "10014        158        163        153        155  ...        140        143   \n",
       "\n",
       "       pixel0057  pixel0058  pixel0059  pixel0060  pixel0061  pixel0062  \\\n",
       "0            181        201        192        184        183        171   \n",
       "1            159        186        185        192        181        143   \n",
       "2            171        185        189        193        176        168   \n",
       "3            146        170        167        158        154        133   \n",
       "4            199        206        208        209        205        200   \n",
       "...          ...        ...        ...        ...        ...        ...   \n",
       "10010        215        211        207        196        212        205   \n",
       "10011        185        194        186        183        180        161   \n",
       "10012        223        227        218        217        223        207   \n",
       "10013        161        167        166        174        184        175   \n",
       "10014        151        153        156        157        163        117   \n",
       "\n",
       "       pixel0063  label  \n",
       "0            157      2  \n",
       "1             58      2  \n",
       "2            151      2  \n",
       "3             45      2  \n",
       "4            186      2  \n",
       "...          ...    ...  \n",
       "10010        191      0  \n",
       "10011         88      0  \n",
       "10012        182      0  \n",
       "10013        168      0  \n",
       "10014        120      6  \n",
       "\n",
       "[10015 rows x 65 columns]"
      ]
     },
     "execution_count": 69,
     "metadata": {},
     "output_type": "execute_result"
    }
   ],
   "source": [
    "pxl"
   ]
  },
  {
   "cell_type": "code",
   "execution_count": 5,
   "id": "c436dd91",
   "metadata": {},
   "outputs": [
    {
     "data": {
      "text/plain": [
       "nv       6705\n",
       "mel      1113\n",
       "bkl      1099\n",
       "bcc       514\n",
       "akiec     327\n",
       "vasc      142\n",
       "df        115\n",
       "Name: dx, dtype: int64"
      ]
     },
     "execution_count": 5,
     "metadata": {},
     "output_type": "execute_result"
    }
   ],
   "source": [
    "meta.dx.value_counts()"
   ]
  },
  {
   "cell_type": "code",
   "execution_count": 6,
   "id": "e7fc7394",
   "metadata": {},
   "outputs": [
    {
     "data": {
      "text/plain": [
       "4    6705\n",
       "6    1113\n",
       "2    1099\n",
       "1     514\n",
       "0     327\n",
       "5     142\n",
       "3     115\n",
       "Name: label, dtype: int64"
      ]
     },
     "execution_count": 6,
     "metadata": {},
     "output_type": "execute_result"
    }
   ],
   "source": [
    "pxl.label.value_counts()"
   ]
  },
  {
   "cell_type": "markdown",
   "id": "dc39b60a",
   "metadata": {},
   "source": [
    "#### from above value counts we can colnclude that, meta data and pixle data represents same imges we can be useful for deplyment of model"
   ]
  },
  {
   "cell_type": "markdown",
   "id": "e2df71f1",
   "metadata": {},
   "source": [
    "## Exploratory Data Analysis"
   ]
  },
  {
   "cell_type": "code",
   "execution_count": 7,
   "id": "14e221ce",
   "metadata": {},
   "outputs": [],
   "source": [
    "import matplotlib.image as im"
   ]
  },
  {
   "cell_type": "code",
   "execution_count": 8,
   "id": "479d7f68",
   "metadata": {},
   "outputs": [
    {
     "data": {
      "text/plain": [
       "pixel0000    172\n",
       "pixel0001    182\n",
       "pixel0002    191\n",
       "pixel0003    183\n",
       "pixel0004    180\n",
       "            ... \n",
       "pixel0059    192\n",
       "pixel0060    184\n",
       "pixel0061    183\n",
       "pixel0062    171\n",
       "pixel0063    157\n",
       "Name: 0, Length: 64, dtype: int64"
      ]
     },
     "execution_count": 8,
     "metadata": {},
     "output_type": "execute_result"
    }
   ],
   "source": [
    "pxl.iloc[0,:-1]"
   ]
  },
  {
   "cell_type": "code",
   "execution_count": 70,
   "id": "2d66527d",
   "metadata": {},
   "outputs": [
    {
     "name": "stdout",
     "output_type": "stream",
     "text": [
      "<class 'pandas.core.frame.DataFrame'>\n",
      "RangeIndex: 10015 entries, 0 to 10014\n",
      "Data columns (total 7 columns):\n",
      " #   Column        Non-Null Count  Dtype  \n",
      "---  ------        --------------  -----  \n",
      " 0   lesion_id     10015 non-null  object \n",
      " 1   image_id      10015 non-null  object \n",
      " 2   dx            10015 non-null  object \n",
      " 3   dx_type       10015 non-null  object \n",
      " 4   age           9958 non-null   float64\n",
      " 5   sex           10015 non-null  object \n",
      " 6   localization  10015 non-null  object \n",
      "dtypes: float64(1), object(6)\n",
      "memory usage: 547.8+ KB\n"
     ]
    }
   ],
   "source": [
    "meta.info()"
   ]
  },
  {
   "cell_type": "code",
   "execution_count": 16,
   "id": "2f9970f9",
   "metadata": {},
   "outputs": [
    {
     "name": "stderr",
     "output_type": "stream",
     "text": [
      "C:\\Users\\ssakarka\\Anaconda3\\lib\\site-packages\\seaborn\\_decorators.py:36: FutureWarning: Pass the following variable as a keyword arg: x. From version 0.12, the only valid positional argument will be `data`, and passing other arguments without an explicit keyword will result in an error or misinterpretation.\n",
      "  warnings.warn(\n"
     ]
    },
    {
     "data": {
      "text/plain": [
       "<AxesSubplot:xlabel='age', ylabel='count'>"
      ]
     },
     "execution_count": 16,
     "metadata": {},
     "output_type": "execute_result"
    },
    {
     "data": {
      "image/png": "[encoded data removed]",
      "text/plain": [
       "<Figure size 432x288 with 1 Axes>"
      ]
     },
     "metadata": {
      "needs_background": "light"
     },
     "output_type": "display_data"
    }
   ],
   "source": [
    "plt.xticks(rotation='30')\n",
    "sns.countplot(meta.age)"
   ]
  },
  {
   "cell_type": "code",
   "execution_count": 18,
   "id": "d23b2cea",
   "metadata": {},
   "outputs": [
    {
     "name": "stderr",
     "output_type": "stream",
     "text": [
      "C:\\Users\\ssakarka\\Anaconda3\\lib\\site-packages\\seaborn\\_decorators.py:36: FutureWarning: Pass the following variable as a keyword arg: x. From version 0.12, the only valid positional argument will be `data`, and passing other arguments without an explicit keyword will result in an error or misinterpretation.\n",
      "  warnings.warn(\n"
     ]
    },
    {
     "data": {
      "text/plain": [
       "<AxesSubplot:xlabel='dx', ylabel='count'>"
      ]
     },
     "execution_count": 18,
     "metadata": {},
     "output_type": "execute_result"
    },
    {
     "data": {
      "image/png": "[encoded data removed]",
      "text/plain": [
       "<Figure size 432x288 with 1 Axes>"
      ]
     },
     "metadata": {
      "needs_background": "light"
     },
     "output_type": "display_data"
    }
   ],
   "source": [
    "sns.countplot(meta.dx)"
   ]
  },
  {
   "cell_type": "code",
   "execution_count": 19,
   "id": "12ce4d77",
   "metadata": {
    "scrolled": true
   },
   "outputs": [
    {
     "name": "stderr",
     "output_type": "stream",
     "text": [
      "C:\\Users\\ssakarka\\Anaconda3\\lib\\site-packages\\seaborn\\_decorators.py:36: FutureWarning: Pass the following variable as a keyword arg: x. From version 0.12, the only valid positional argument will be `data`, and passing other arguments without an explicit keyword will result in an error or misinterpretation.\n",
      "  warnings.warn(\n"
     ]
    },
    {
     "data": {
      "text/plain": [
       "<AxesSubplot:xlabel='dx_type', ylabel='count'>"
      ]
     },
     "execution_count": 19,
     "metadata": {},
     "output_type": "execute_result"
    },
    {
     "data": {
      "image/png": "[encoded data removed]",
      "text/plain": [
       "<Figure size 432x288 with 1 Axes>"
      ]
     },
     "metadata": {
      "needs_background": "light"
     },
     "output_type": "display_data"
    }
   ],
   "source": [
    "sns.countplot(meta.dx_type)"
   ]
  },
  {
   "cell_type": "code",
   "execution_count": 21,
   "id": "0814d459",
   "metadata": {
    "scrolled": true
   },
   "outputs": [],
   "source": [
    "from sklearn.preprocessing import LabelEncoder\n",
    "\n",
    "le=LabelEncoder()\n",
    "\n",
    "for col in df.columns:\n",
    "    if df[col].dtype=='O':\n",
    "        df[col]=le.fit_transform(df[col])\n",
    "    else:\n",
    "        df[col]=df[col]"
   ]
  },
  {
   "cell_type": "code",
   "execution_count": 22,
   "id": "1f9fb224",
   "metadata": {},
   "outputs": [
    {
     "data": {
      "text/html": [
       "<div>\n",
       "<style scoped>\n",
       "    .dataframe tbody tr th:only-of-type {\n",
       "        vertical-align: middle;\n",
       "    }\n",
       "\n",
       "    .dataframe tbody tr th {\n",
       "        vertical-align: top;\n",
       "    }\n",
       "\n",
       "    .dataframe thead th {\n",
       "        text-align: right;\n",
       "    }\n",
       "</style>\n",
       "<table border=\"1\" class=\"dataframe\">\n",
       "  <thead>\n",
       "    <tr style=\"text-align: right;\">\n",
       "      <th></th>\n",
       "      <th>lesion_id</th>\n",
       "      <th>image_id</th>\n",
       "      <th>dx</th>\n",
       "      <th>dx_type</th>\n",
       "      <th>age</th>\n",
       "      <th>sex</th>\n",
       "      <th>localization</th>\n",
       "    </tr>\n",
       "  </thead>\n",
       "  <tbody>\n",
       "    <tr>\n",
       "      <th>0</th>\n",
       "      <td>118</td>\n",
       "      <td>3113</td>\n",
       "      <td>2</td>\n",
       "      <td>3</td>\n",
       "      <td>80.0</td>\n",
       "      <td>1</td>\n",
       "      <td>11</td>\n",
       "    </tr>\n",
       "    <tr>\n",
       "      <th>1</th>\n",
       "      <td>118</td>\n",
       "      <td>724</td>\n",
       "      <td>2</td>\n",
       "      <td>3</td>\n",
       "      <td>80.0</td>\n",
       "      <td>1</td>\n",
       "      <td>11</td>\n",
       "    </tr>\n",
       "    <tr>\n",
       "      <th>2</th>\n",
       "      <td>2710</td>\n",
       "      <td>2463</td>\n",
       "      <td>2</td>\n",
       "      <td>3</td>\n",
       "      <td>80.0</td>\n",
       "      <td>1</td>\n",
       "      <td>11</td>\n",
       "    </tr>\n",
       "    <tr>\n",
       "      <th>3</th>\n",
       "      <td>2710</td>\n",
       "      <td>1355</td>\n",
       "      <td>2</td>\n",
       "      <td>3</td>\n",
       "      <td>80.0</td>\n",
       "      <td>1</td>\n",
       "      <td>11</td>\n",
       "    </tr>\n",
       "    <tr>\n",
       "      <th>4</th>\n",
       "      <td>1460</td>\n",
       "      <td>7327</td>\n",
       "      <td>2</td>\n",
       "      <td>3</td>\n",
       "      <td>75.0</td>\n",
       "      <td>1</td>\n",
       "      <td>4</td>\n",
       "    </tr>\n",
       "    <tr>\n",
       "      <th>...</th>\n",
       "      <td>...</td>\n",
       "      <td>...</td>\n",
       "      <td>...</td>\n",
       "      <td>...</td>\n",
       "      <td>...</td>\n",
       "      <td>...</td>\n",
       "      <td>...</td>\n",
       "    </tr>\n",
       "    <tr>\n",
       "      <th>10010</th>\n",
       "      <td>2844</td>\n",
       "      <td>8778</td>\n",
       "      <td>0</td>\n",
       "      <td>3</td>\n",
       "      <td>40.0</td>\n",
       "      <td>1</td>\n",
       "      <td>0</td>\n",
       "    </tr>\n",
       "    <tr>\n",
       "      <th>10011</th>\n",
       "      <td>2844</td>\n",
       "      <td>9244</td>\n",
       "      <td>0</td>\n",
       "      <td>3</td>\n",
       "      <td>40.0</td>\n",
       "      <td>1</td>\n",
       "      <td>0</td>\n",
       "    </tr>\n",
       "    <tr>\n",
       "      <th>10012</th>\n",
       "      <td>2844</td>\n",
       "      <td>9230</td>\n",
       "      <td>0</td>\n",
       "      <td>3</td>\n",
       "      <td>40.0</td>\n",
       "      <td>1</td>\n",
       "      <td>0</td>\n",
       "    </tr>\n",
       "    <tr>\n",
       "      <th>10013</th>\n",
       "      <td>239</td>\n",
       "      <td>8548</td>\n",
       "      <td>0</td>\n",
       "      <td>3</td>\n",
       "      <td>80.0</td>\n",
       "      <td>1</td>\n",
       "      <td>5</td>\n",
       "    </tr>\n",
       "    <tr>\n",
       "      <th>10014</th>\n",
       "      <td>3487</td>\n",
       "      <td>7952</td>\n",
       "      <td>4</td>\n",
       "      <td>3</td>\n",
       "      <td>70.0</td>\n",
       "      <td>0</td>\n",
       "      <td>2</td>\n",
       "    </tr>\n",
       "  </tbody>\n",
       "</table>\n",
       "<p>10015 rows × 7 columns</p>\n",
       "</div>"
      ],
      "text/plain": [
       "       lesion_id  image_id  dx  dx_type   age  sex  localization\n",
       "0            118      3113   2        3  80.0    1            11\n",
       "1            118       724   2        3  80.0    1            11\n",
       "2           2710      2463   2        3  80.0    1            11\n",
       "3           2710      1355   2        3  80.0    1            11\n",
       "4           1460      7327   2        3  75.0    1             4\n",
       "...          ...       ...  ..      ...   ...  ...           ...\n",
       "10010       2844      8778   0        3  40.0    1             0\n",
       "10011       2844      9244   0        3  40.0    1             0\n",
       "10012       2844      9230   0        3  40.0    1             0\n",
       "10013        239      8548   0        3  80.0    1             5\n",
       "10014       3487      7952   4        3  70.0    0             2\n",
       "\n",
       "[10015 rows x 7 columns]"
      ]
     },
     "execution_count": 22,
     "metadata": {},
     "output_type": "execute_result"
    }
   ],
   "source": [
    "df"
   ]
  },
  {
   "cell_type": "code",
   "execution_count": 23,
   "id": "07fbcd86",
   "metadata": {
    "scrolled": true
   },
   "outputs": [],
   "source": [
    "df.age.fillna(df.age.mean(),inplace=True)\n"
   ]
  },
  {
   "cell_type": "code",
   "execution_count": 24,
   "id": "fb483500",
   "metadata": {},
   "outputs": [
    {
     "name": "stdout",
     "output_type": "stream",
     "text": [
      "<class 'pandas.core.frame.DataFrame'>\n",
      "RangeIndex: 10015 entries, 0 to 10014\n",
      "Data columns (total 7 columns):\n",
      " #   Column        Non-Null Count  Dtype  \n",
      "---  ------        --------------  -----  \n",
      " 0   lesion_id     10015 non-null  int32  \n",
      " 1   image_id      10015 non-null  int32  \n",
      " 2   dx            10015 non-null  int32  \n",
      " 3   dx_type       10015 non-null  int32  \n",
      " 4   age           10015 non-null  float64\n",
      " 5   sex           10015 non-null  int32  \n",
      " 6   localization  10015 non-null  int32  \n",
      "dtypes: float64(1), int32(6)\n",
      "memory usage: 313.1 KB\n"
     ]
    }
   ],
   "source": [
    "df.info()"
   ]
  },
  {
   "cell_type": "code",
   "execution_count": 25,
   "id": "cae8c468",
   "metadata": {
    "scrolled": true
   },
   "outputs": [
    {
     "data": {
      "text/plain": [
       "<AxesSubplot:>"
      ]
     },
     "execution_count": 25,
     "metadata": {},
     "output_type": "execute_result"
    },
    {
     "data": {
      "image/png": "[encoded data removed]",
      "text/plain": [
       "<Figure size 432x288 with 2 Axes>"
      ]
     },
     "metadata": {
      "needs_background": "light"
     },
     "output_type": "display_data"
    }
   ],
   "source": [
    "sns.heatmap(df.corr(),annot=True)"
   ]
  },
  {
   "cell_type": "code",
   "execution_count": null,
   "id": "af30119f",
   "metadata": {},
   "outputs": [],
   "source": []
  },
  {
   "cell_type": "code",
   "execution_count": 26,
   "id": "2b81ea4d",
   "metadata": {},
   "outputs": [
    {
     "data": {
      "text/html": [
       "<div>\n",
       "<style scoped>\n",
       "    .dataframe tbody tr th:only-of-type {\n",
       "        vertical-align: middle;\n",
       "    }\n",
       "\n",
       "    .dataframe tbody tr th {\n",
       "        vertical-align: top;\n",
       "    }\n",
       "\n",
       "    .dataframe thead th {\n",
       "        text-align: right;\n",
       "    }\n",
       "</style>\n",
       "<table border=\"1\" class=\"dataframe\">\n",
       "  <thead>\n",
       "    <tr style=\"text-align: right;\">\n",
       "      <th></th>\n",
       "      <th>dx</th>\n",
       "      <th>dx_type</th>\n",
       "      <th>age</th>\n",
       "      <th>sex</th>\n",
       "      <th>localization</th>\n",
       "    </tr>\n",
       "  </thead>\n",
       "  <tbody>\n",
       "    <tr>\n",
       "      <th>0</th>\n",
       "      <td>2</td>\n",
       "      <td>3</td>\n",
       "      <td>80.0</td>\n",
       "      <td>1</td>\n",
       "      <td>11</td>\n",
       "    </tr>\n",
       "    <tr>\n",
       "      <th>1</th>\n",
       "      <td>2</td>\n",
       "      <td>3</td>\n",
       "      <td>80.0</td>\n",
       "      <td>1</td>\n",
       "      <td>11</td>\n",
       "    </tr>\n",
       "    <tr>\n",
       "      <th>2</th>\n",
       "      <td>2</td>\n",
       "      <td>3</td>\n",
       "      <td>80.0</td>\n",
       "      <td>1</td>\n",
       "      <td>11</td>\n",
       "    </tr>\n",
       "    <tr>\n",
       "      <th>3</th>\n",
       "      <td>2</td>\n",
       "      <td>3</td>\n",
       "      <td>80.0</td>\n",
       "      <td>1</td>\n",
       "      <td>11</td>\n",
       "    </tr>\n",
       "    <tr>\n",
       "      <th>4</th>\n",
       "      <td>2</td>\n",
       "      <td>3</td>\n",
       "      <td>75.0</td>\n",
       "      <td>1</td>\n",
       "      <td>4</td>\n",
       "    </tr>\n",
       "    <tr>\n",
       "      <th>...</th>\n",
       "      <td>...</td>\n",
       "      <td>...</td>\n",
       "      <td>...</td>\n",
       "      <td>...</td>\n",
       "      <td>...</td>\n",
       "    </tr>\n",
       "    <tr>\n",
       "      <th>10010</th>\n",
       "      <td>0</td>\n",
       "      <td>3</td>\n",
       "      <td>40.0</td>\n",
       "      <td>1</td>\n",
       "      <td>0</td>\n",
       "    </tr>\n",
       "    <tr>\n",
       "      <th>10011</th>\n",
       "      <td>0</td>\n",
       "      <td>3</td>\n",
       "      <td>40.0</td>\n",
       "      <td>1</td>\n",
       "      <td>0</td>\n",
       "    </tr>\n",
       "    <tr>\n",
       "      <th>10012</th>\n",
       "      <td>0</td>\n",
       "      <td>3</td>\n",
       "      <td>40.0</td>\n",
       "      <td>1</td>\n",
       "      <td>0</td>\n",
       "    </tr>\n",
       "    <tr>\n",
       "      <th>10013</th>\n",
       "      <td>0</td>\n",
       "      <td>3</td>\n",
       "      <td>80.0</td>\n",
       "      <td>1</td>\n",
       "      <td>5</td>\n",
       "    </tr>\n",
       "    <tr>\n",
       "      <th>10014</th>\n",
       "      <td>4</td>\n",
       "      <td>3</td>\n",
       "      <td>70.0</td>\n",
       "      <td>0</td>\n",
       "      <td>2</td>\n",
       "    </tr>\n",
       "  </tbody>\n",
       "</table>\n",
       "<p>10015 rows × 5 columns</p>\n",
       "</div>"
      ],
      "text/plain": [
       "       dx  dx_type   age  sex  localization\n",
       "0       2        3  80.0    1            11\n",
       "1       2        3  80.0    1            11\n",
       "2       2        3  80.0    1            11\n",
       "3       2        3  80.0    1            11\n",
       "4       2        3  75.0    1             4\n",
       "...    ..      ...   ...  ...           ...\n",
       "10010   0        3  40.0    1             0\n",
       "10011   0        3  40.0    1             0\n",
       "10012   0        3  40.0    1             0\n",
       "10013   0        3  80.0    1             5\n",
       "10014   4        3  70.0    0             2\n",
       "\n",
       "[10015 rows x 5 columns]"
      ]
     },
     "execution_count": 26,
     "metadata": {},
     "output_type": "execute_result"
    }
   ],
   "source": [
    "df1=df.drop(columns=['lesion_id','image_id'])\n",
    "df1"
   ]
  },
  {
   "cell_type": "code",
   "execution_count": 27,
   "id": "3f4524da",
   "metadata": {},
   "outputs": [],
   "source": [
    "from sklearn.model_selection import train_test_split\n",
    "X=df1.drop(columns=['dx'])\n",
    "Y=df1.dx\n",
    "X,x,Y,y=train_test_split(X,Y,random_state=4)"
   ]
  },
  {
   "cell_type": "code",
   "execution_count": 28,
   "id": "b82b92f7",
   "metadata": {},
   "outputs": [
    {
     "data": {
      "text/plain": [
       "2717    1\n",
       "5683    5\n",
       "4544    5\n",
       "8737    5\n",
       "9905    0\n",
       "       ..\n",
       "456     2\n",
       "6017    5\n",
       "709     2\n",
       "8366    5\n",
       "1146    3\n",
       "Name: dx, Length: 7511, dtype: int32"
      ]
     },
     "execution_count": 28,
     "metadata": {},
     "output_type": "execute_result"
    }
   ],
   "source": [
    "Y"
   ]
  },
  {
   "cell_type": "code",
   "execution_count": 29,
   "id": "3d374990",
   "metadata": {},
   "outputs": [
    {
     "ename": "KeyboardInterrupt",
     "evalue": "",
     "output_type": "error",
     "traceback": [
      "\u001b[1;31m---------------------------------------------------------------------------\u001b[0m",
      "\u001b[1;31mKeyboardInterrupt\u001b[0m                         Traceback (most recent call last)",
      "\u001b[1;32m~\\AppData\\Local\\Temp/ipykernel_21248/2470250089.py\u001b[0m in \u001b[0;36m<module>\u001b[1;34m\u001b[0m\n\u001b[0;32m      1\u001b[0m \u001b[1;32mfrom\u001b[0m \u001b[0msklearn\u001b[0m\u001b[1;33m.\u001b[0m\u001b[0msvm\u001b[0m \u001b[1;32mimport\u001b[0m \u001b[0mSVC\u001b[0m\u001b[1;33m\u001b[0m\u001b[1;33m\u001b[0m\u001b[0m\n\u001b[0;32m      2\u001b[0m \u001b[0msvc\u001b[0m\u001b[1;33m=\u001b[0m\u001b[0mSVC\u001b[0m\u001b[1;33m(\u001b[0m\u001b[1;33m)\u001b[0m\u001b[1;33m\u001b[0m\u001b[1;33m\u001b[0m\u001b[0m\n\u001b[1;32m----> 3\u001b[1;33m \u001b[0msvc\u001b[0m\u001b[1;33m.\u001b[0m\u001b[0mfit\u001b[0m\u001b[1;33m(\u001b[0m\u001b[0mX\u001b[0m\u001b[1;33m,\u001b[0m\u001b[0mY\u001b[0m\u001b[1;33m)\u001b[0m\u001b[1;33m\u001b[0m\u001b[1;33m\u001b[0m\u001b[0m\n\u001b[0m\u001b[0;32m      4\u001b[0m \u001b[0my_pre\u001b[0m\u001b[1;33m=\u001b[0m\u001b[0msvc\u001b[0m\u001b[1;33m.\u001b[0m\u001b[0mpredict\u001b[0m\u001b[1;33m(\u001b[0m\u001b[0mx\u001b[0m\u001b[1;33m)\u001b[0m\u001b[1;33m\u001b[0m\u001b[1;33m\u001b[0m\u001b[0m\n",
      "\u001b[1;32m~\\Anaconda3\\lib\\site-packages\\sklearn\\svm\\_base.py\u001b[0m in \u001b[0;36mfit\u001b[1;34m(self, X, y, sample_weight)\u001b[0m\n\u001b[0;32m    224\u001b[0m \u001b[1;33m\u001b[0m\u001b[0m\n\u001b[0;32m    225\u001b[0m         \u001b[0mseed\u001b[0m \u001b[1;33m=\u001b[0m \u001b[0mrnd\u001b[0m\u001b[1;33m.\u001b[0m\u001b[0mrandint\u001b[0m\u001b[1;33m(\u001b[0m\u001b[0mnp\u001b[0m\u001b[1;33m.\u001b[0m\u001b[0miinfo\u001b[0m\u001b[1;33m(\u001b[0m\u001b[1;34m'i'\u001b[0m\u001b[1;33m)\u001b[0m\u001b[1;33m.\u001b[0m\u001b[0mmax\u001b[0m\u001b[1;33m)\u001b[0m\u001b[1;33m\u001b[0m\u001b[1;33m\u001b[0m\u001b[0m\n\u001b[1;32m--> 226\u001b[1;33m         \u001b[0mfit\u001b[0m\u001b[1;33m(\u001b[0m\u001b[0mX\u001b[0m\u001b[1;33m,\u001b[0m \u001b[0my\u001b[0m\u001b[1;33m,\u001b[0m \u001b[0msample_weight\u001b[0m\u001b[1;33m,\u001b[0m \u001b[0msolver_type\u001b[0m\u001b[1;33m,\u001b[0m \u001b[0mkernel\u001b[0m\u001b[1;33m,\u001b[0m \u001b[0mrandom_seed\u001b[0m\u001b[1;33m=\u001b[0m\u001b[0mseed\u001b[0m\u001b[1;33m)\u001b[0m\u001b[1;33m\u001b[0m\u001b[1;33m\u001b[0m\u001b[0m\n\u001b[0m\u001b[0;32m    227\u001b[0m         \u001b[1;31m# see comment on the other call to np.iinfo in this file\u001b[0m\u001b[1;33m\u001b[0m\u001b[1;33m\u001b[0m\u001b[0m\n\u001b[0;32m    228\u001b[0m \u001b[1;33m\u001b[0m\u001b[0m\n",
      "\u001b[1;32m~\\Anaconda3\\lib\\site-packages\\sklearn\\svm\\_base.py\u001b[0m in \u001b[0;36m_dense_fit\u001b[1;34m(self, X, y, sample_weight, solver_type, kernel, random_seed)\u001b[0m\n\u001b[0;32m    275\u001b[0m         \u001b[0mself\u001b[0m\u001b[1;33m.\u001b[0m\u001b[0msupport_\u001b[0m\u001b[1;33m,\u001b[0m \u001b[0mself\u001b[0m\u001b[1;33m.\u001b[0m\u001b[0msupport_vectors_\u001b[0m\u001b[1;33m,\u001b[0m \u001b[0mself\u001b[0m\u001b[1;33m.\u001b[0m\u001b[0m_n_support\u001b[0m\u001b[1;33m,\u001b[0m\u001b[0;31m \u001b[0m\u001b[0;31m\\\u001b[0m\u001b[1;33m\u001b[0m\u001b[1;33m\u001b[0m\u001b[0m\n\u001b[0;32m    276\u001b[0m             \u001b[0mself\u001b[0m\u001b[1;33m.\u001b[0m\u001b[0mdual_coef_\u001b[0m\u001b[1;33m,\u001b[0m \u001b[0mself\u001b[0m\u001b[1;33m.\u001b[0m\u001b[0mintercept_\u001b[0m\u001b[1;33m,\u001b[0m \u001b[0mself\u001b[0m\u001b[1;33m.\u001b[0m\u001b[0m_probA\u001b[0m\u001b[1;33m,\u001b[0m\u001b[0;31m \u001b[0m\u001b[0;31m\\\u001b[0m\u001b[1;33m\u001b[0m\u001b[1;33m\u001b[0m\u001b[0m\n\u001b[1;32m--> 277\u001b[1;33m             self._probB, self.fit_status_ = libsvm.fit(\n\u001b[0m\u001b[0;32m    278\u001b[0m                 \u001b[0mX\u001b[0m\u001b[1;33m,\u001b[0m \u001b[0my\u001b[0m\u001b[1;33m,\u001b[0m\u001b[1;33m\u001b[0m\u001b[1;33m\u001b[0m\u001b[0m\n\u001b[0;32m    279\u001b[0m                 \u001b[0msvm_type\u001b[0m\u001b[1;33m=\u001b[0m\u001b[0msolver_type\u001b[0m\u001b[1;33m,\u001b[0m \u001b[0msample_weight\u001b[0m\u001b[1;33m=\u001b[0m\u001b[0msample_weight\u001b[0m\u001b[1;33m,\u001b[0m\u001b[1;33m\u001b[0m\u001b[1;33m\u001b[0m\u001b[0m\n",
      "\u001b[1;31mKeyboardInterrupt\u001b[0m: "
     ]
    }
   ],
   "source": [
    "from sklearn.svm import SVC\n",
    "svc=SVC()\n",
    "svc.fit(X,Y)\n",
    "y_pre=svc.predict(x)"
   ]
  },
  {
   "cell_type": "code",
   "execution_count": null,
   "id": "a73d5302",
   "metadata": {},
   "outputs": [],
   "source": [
    "from sklearn.metrics import accuracy_score\n",
    "accuracy_score(y_pre,y)"
   ]
  },
  {
   "cell_type": "code",
   "execution_count": null,
   "id": "74dbe4fc",
   "metadata": {},
   "outputs": [],
   "source": [
    "from sklearn.ensemble import RandomForestClassifier\n",
    "rf=RandomForestClassifier()\n",
    "rf.fit(X,Y)\n",
    "y_pre_rf=rf.predict(x)\n",
    "accuracy_score(y_pre_rf,y)"
   ]
  },
  {
   "cell_type": "markdown",
   "id": "afd2bedb",
   "metadata": {},
   "source": [
    "## Approach 2: Model Building using Keras image_datasetfrom_directory"
   ]
  },
  {
   "cell_type": "code",
   "execution_count": 1,
   "id": "2f21e658",
   "metadata": {},
   "outputs": [],
   "source": [
    "import tensorflow as tf"
   ]
  },
  {
   "cell_type": "code",
   "execution_count": 2,
   "id": "09654a84",
   "metadata": {},
   "outputs": [],
   "source": [
    "BATCH_SIZE = 64 # number of datapoints per obsevation in new dataset\n",
    "IMAGE_SIZE1 = 600 # pixl size of images from raw data\n",
    "IMAGE_SIZE2=450\n",
    "CHANNELS=3 # RGB channel\n",
    "EPOCHS=50 # number of epochs for NN model"
   ]
  },
  {
   "cell_type": "code",
   "execution_count": null,
   "id": "cd4f8c39",
   "metadata": {},
   "outputs": [],
   "source": []
  },
  {
   "cell_type": "code",
   "execution_count": 3,
   "id": "3669c027",
   "metadata": {},
   "outputs": [
    {
     "name": "stdout",
     "output_type": "stream",
     "text": [
      "Found 10015 files belonging to 7 classes.\n"
     ]
    }
   ],
   "source": [
    "dataset=tf.keras.utils.image_dataset_from_directory(\"destination_folder\",\n",
    "    seed=123,\n",
    "    shuffle=True,\n",
    "    #image_size=(IMAGE_SIZE1,IMAGE_SIZE2),\n",
    "    batch_size=BATCH_SIZE) # this is new dataset"
   ]
  },
  {
   "cell_type": "code",
   "execution_count": 35,
   "id": "d93e7394",
   "metadata": {},
   "outputs": [
    {
     "data": {
      "text/plain": [
       "tensorflow.python.data.ops.dataset_ops.BatchDataset"
      ]
     },
     "execution_count": 35,
     "metadata": {},
     "output_type": "execute_result"
    }
   ],
   "source": [
    "type(dataset)"
   ]
  },
  {
   "cell_type": "code",
   "execution_count": 4,
   "id": "362da8a7",
   "metadata": {},
   "outputs": [
    {
     "data": {
      "text/plain": [
       "['akiec', 'bcc', 'bkl', 'df', 'mel', 'nv', 'vasc']"
      ]
     },
     "execution_count": 4,
     "metadata": {},
     "output_type": "execute_result"
    }
   ],
   "source": [
    "class_names=dataset.class_names # Target variable\n",
    "class_names"
   ]
  },
  {
   "cell_type": "code",
   "execution_count": 39,
   "id": "c17b52d8",
   "metadata": {},
   "outputs": [
    {
     "data": {
      "text/plain": [
       "157"
      ]
     },
     "execution_count": 39,
     "metadata": {},
     "output_type": "execute_result"
    }
   ],
   "source": [
    "d_pt=len(dataset) \n",
    "d_pt"
   ]
  },
  {
   "cell_type": "code",
   "execution_count": 38,
   "id": "d028535c",
   "metadata": {
    "scrolled": true
   },
   "outputs": [
    {
     "data": {
      "text/plain": [
       "10048"
      ]
     },
     "execution_count": 38,
     "metadata": {},
     "output_type": "execute_result"
    }
   ],
   "source": [
    "157*64"
   ]
  },
  {
   "cell_type": "code",
   "execution_count": 7,
   "id": "1f8e44a0",
   "metadata": {},
   "outputs": [],
   "source": [
    "#Every Element in dataset is Batch of 32 images"
   ]
  },
  {
   "cell_type": "code",
   "execution_count": 40,
   "id": "8032d961",
   "metadata": {},
   "outputs": [
    {
     "data": {
      "text/plain": [
       "<TakeDataset element_spec=(TensorSpec(shape=(None, 600, 450, 3), dtype=tf.float32, name=None), TensorSpec(shape=(None,), dtype=tf.int32, name=None))>"
      ]
     },
     "execution_count": 40,
     "metadata": {},
     "output_type": "execute_result"
    }
   ],
   "source": [
    "train_ds=dataset.take(int(d_pt*0.8))\n",
    "train_ds"
   ]
  },
  {
   "cell_type": "code",
   "execution_count": 41,
   "id": "e0e39ae0",
   "metadata": {},
   "outputs": [
    {
     "data": {
      "text/plain": [
       "125"
      ]
     },
     "execution_count": 41,
     "metadata": {},
     "output_type": "execute_result"
    }
   ],
   "source": [
    "len(train_ds)"
   ]
  },
  {
   "cell_type": "code",
   "execution_count": 10,
   "id": "c2f3576a",
   "metadata": {},
   "outputs": [],
   "source": [
    "# took250 obsevations from new dataset as training data i.e 250*32 just like slicing operation"
   ]
  },
  {
   "cell_type": "code",
   "execution_count": 42,
   "id": "0a31d8c8",
   "metadata": {},
   "outputs": [],
   "source": [
    "test=dataset.skip(125)\n"
   ]
  },
  {
   "cell_type": "code",
   "execution_count": 43,
   "id": "706cf1ff",
   "metadata": {},
   "outputs": [
    {
     "data": {
      "text/plain": [
       "32"
      ]
     },
     "execution_count": 43,
     "metadata": {},
     "output_type": "execute_result"
    }
   ],
   "source": [
    "len(test)"
   ]
  },
  {
   "cell_type": "code",
   "execution_count": 13,
   "id": "05497df9",
   "metadata": {},
   "outputs": [],
   "source": [
    "# skipped first 250 observation for test data"
   ]
  },
  {
   "cell_type": "code",
   "execution_count": 44,
   "id": "3a501850",
   "metadata": {},
   "outputs": [
    {
     "data": {
      "text/plain": [
       "16.0"
      ]
     },
     "execution_count": 44,
     "metadata": {},
     "output_type": "execute_result"
    }
   ],
   "source": [
    "32/2"
   ]
  },
  {
   "cell_type": "code",
   "execution_count": 45,
   "id": "bcc51d49",
   "metadata": {},
   "outputs": [
    {
     "data": {
      "text/plain": [
       "16"
      ]
     },
     "execution_count": 45,
     "metadata": {},
     "output_type": "execute_result"
    }
   ],
   "source": [
    "val_ds=test.take(16) # validation data is used for validation after evry epoch\n",
    "test_ds=test.skip(16) # test data is used after all epochs are done for model testing\n",
    "len(test_ds)"
   ]
  },
  {
   "cell_type": "code",
   "execution_count": 15,
   "id": "5d666fc1",
   "metadata": {},
   "outputs": [],
   "source": [
    "# test data is divided into validation data and test data"
   ]
  },
  {
   "cell_type": "code",
   "execution_count": 16,
   "id": "927610f8",
   "metadata": {},
   "outputs": [],
   "source": [
    "from tensorflow.keras import models, layers"
   ]
  },
  {
   "cell_type": "code",
   "execution_count": 48,
   "id": "fa01d6b9",
   "metadata": {},
   "outputs": [],
   "source": [
    "# Resizing and rescaling of input images\n",
    "resize_and_rescale = tf.keras.Sequential([\n",
    "  layers.experimental.preprocessing.Resizing(256, 256),\n",
    "  layers.experimental.preprocessing.Rescaling(1./255),\n",
    "])"
   ]
  },
  {
   "cell_type": "code",
   "execution_count": 49,
   "id": "9a9f76e3",
   "metadata": {},
   "outputs": [],
   "source": [
    "# data augmentation of input images with flips and rotation"
   ]
  },
  {
   "cell_type": "code",
   "execution_count": 50,
   "id": "df8a7ba3",
   "metadata": {},
   "outputs": [],
   "source": [
    "data_augmentation = tf.keras.Sequential([\n",
    "  layers.experimental.preprocessing.RandomFlip(\"horizontal_and_vertical\"),\n",
    "  layers.experimental.preprocessing.RandomRotation(0.2),\n",
    "])"
   ]
  },
  {
   "cell_type": "code",
   "execution_count": 51,
   "id": "6dda8824",
   "metadata": {},
   "outputs": [],
   "source": [
    "train_ds = train_ds.map(\n",
    "    lambda x, y: (data_augmentation(x, training=True), y)\n",
    ").prefetch(buffer_size=tf.data.AUTOTUNE)"
   ]
  },
  {
   "cell_type": "code",
   "execution_count": 52,
   "id": "4e0c2997",
   "metadata": {},
   "outputs": [],
   "source": [
    "# Model Building\n",
    "#convolution layer=> flattend layer => dense layer "
   ]
  },
  {
   "cell_type": "code",
   "execution_count": 53,
   "id": "3a99c641",
   "metadata": {},
   "outputs": [],
   "source": [
    "input_shape = (BATCH_SIZE, IMAGE_SIZE1, IMAGE_SIZE2, CHANNELS)\n",
    "n_classes = 7\n",
    "\n",
    "model = models.Sequential([\n",
    "    resize_and_rescale,\n",
    "    layers.Conv2D(120, kernel_size = (3,3), activation='relu', input_shape=input_shape),\n",
    "    layers.MaxPooling2D((2, 2)),\n",
    "    layers.Conv2D(64,  kernel_size = (3,3), activation='relu'),\n",
    "    layers.MaxPooling2D((2, 2)),\n",
    "    layers.Conv2D(64,  kernel_size = (3,3), activation='relu'),\n",
    "    layers.MaxPooling2D((2, 2)),\n",
    "    layers.Conv2D(64, (3, 3), activation='relu'),\n",
    "    layers.MaxPooling2D((2, 2)),\n",
    "    layers.Conv2D(64, (3, 3), activation='relu'),\n",
    "    layers.MaxPooling2D((2, 2)),\n",
    "    layers.Conv2D(64, (3, 3), activation='relu'),\n",
    "    layers.MaxPooling2D((2, 2)),\n",
    "    layers.Flatten(),\n",
    "    layers.Dense(64, activation='relu'),\n",
    "    layers.Dense(n_classes, activation='softmax'),\n",
    "])\n",
    "\n",
    "model.build(input_shape=input_shape)"
   ]
  },
  {
   "cell_type": "code",
   "execution_count": 54,
   "id": "a4c4494d",
   "metadata": {},
   "outputs": [
    {
     "name": "stdout",
     "output_type": "stream",
     "text": [
      "Model: \"sequential_6\"\n",
      "_________________________________________________________________\n",
      " Layer (type)                Output Shape              Param #   \n",
      "=================================================================\n",
      " sequential_4 (Sequential)   (64, 256, 256, 3)         0         \n",
      "                                                                 \n",
      " conv2d_12 (Conv2D)          (64, 254, 254, 120)       3360      \n",
      "                                                                 \n",
      " max_pooling2d_12 (MaxPoolin  (64, 127, 127, 120)      0         \n",
      " g2D)                                                            \n",
      "                                                                 \n",
      " conv2d_13 (Conv2D)          (64, 125, 125, 64)        69184     \n",
      "                                                                 \n",
      " max_pooling2d_13 (MaxPoolin  (64, 62, 62, 64)         0         \n",
      " g2D)                                                            \n",
      "                                                                 \n",
      " conv2d_14 (Conv2D)          (64, 60, 60, 64)          36928     \n",
      "                                                                 \n",
      " max_pooling2d_14 (MaxPoolin  (64, 30, 30, 64)         0         \n",
      " g2D)                                                            \n",
      "                                                                 \n",
      " conv2d_15 (Conv2D)          (64, 28, 28, 64)          36928     \n",
      "                                                                 \n",
      " max_pooling2d_15 (MaxPoolin  (64, 14, 14, 64)         0         \n",
      " g2D)                                                            \n",
      "                                                                 \n",
      " conv2d_16 (Conv2D)          (64, 12, 12, 64)          36928     \n",
      "                                                                 \n",
      " max_pooling2d_16 (MaxPoolin  (64, 6, 6, 64)           0         \n",
      " g2D)                                                            \n",
      "                                                                 \n",
      " conv2d_17 (Conv2D)          (64, 4, 4, 64)            36928     \n",
      "                                                                 \n",
      " max_pooling2d_17 (MaxPoolin  (64, 2, 2, 64)           0         \n",
      " g2D)                                                            \n",
      "                                                                 \n",
      " flatten_2 (Flatten)         (64, 256)                 0         \n",
      "                                                                 \n",
      " dense_4 (Dense)             (64, 64)                  16448     \n",
      "                                                                 \n",
      " dense_5 (Dense)             (64, 7)                   455       \n",
      "                                                                 \n",
      "=================================================================\n",
      "Total params: 237,159\n",
      "Trainable params: 237,159\n",
      "Non-trainable params: 0\n",
      "_________________________________________________________________\n"
     ]
    }
   ],
   "source": [
    "model.summary()"
   ]
  },
  {
   "cell_type": "code",
   "execution_count": 55,
   "id": "b2587b73",
   "metadata": {},
   "outputs": [],
   "source": [
    "model.compile(\n",
    "    optimizer='adam',\n",
    "    loss=tf.keras.losses.SparseCategoricalCrossentropy(from_logits=False),\n",
    "    metrics=['accuracy']\n",
    ")"
   ]
  },
  {
   "cell_type": "code",
   "execution_count": 56,
   "id": "f1177a1d",
   "metadata": {},
   "outputs": [],
   "source": [
    "# for cpu runtime"
   ]
  },
  {
   "cell_type": "code",
   "execution_count": 57,
   "id": "7261d39a",
   "metadata": {},
   "outputs": [],
   "source": [
    "train_ds = train_ds.cache().shuffle(1000).prefetch(buffer_size=tf.data.AUTOTUNE)\n",
    "val_ds = val_ds.cache().shuffle(1000).prefetch(buffer_size=tf.data.AUTOTUNE)\n",
    "test_ds = test_ds.cache().shuffle(1000).prefetch(buffer_size=tf.data.AUTOTUNE)"
   ]
  },
  {
   "cell_type": "code",
   "execution_count": 25,
   "id": "00b6162f",
   "metadata": {},
   "outputs": [
    {
     "name": "stdout",
     "output_type": "stream",
     "text": [
      "Epoch 1/5\n",
      "157/157 [==============================] - 2155s 9s/step - loss: 1.0587 - accuracy: 0.6667\n",
      "Epoch 2/5\n",
      "157/157 [==============================] - 1491s 9s/step - loss: 0.9446 - accuracy: 0.6704\n",
      "Epoch 3/5\n",
      "157/157 [==============================] - 1471s 9s/step - loss: 0.9015 - accuracy: 0.6793\n",
      "Epoch 4/5\n",
      "157/157 [==============================] - 1305s 8s/step - loss: 0.8400 - accuracy: 0.6970\n",
      "Epoch 5/5\n",
      "157/157 [==============================] - 1334s 9s/step - loss: 0.8268 - accuracy: 0.6981\n"
     ]
    }
   ],
   "source": [
    "history = model.fit(\n",
    "    train_ds,\n",
    "    batch_size=BATCH_SIZE,\n",
    "    validation_data=val_ds,\n",
    "    verbose=1,\n",
    "    epochs=5,\n",
    ")"
   ]
  },
  {
   "cell_type": "code",
   "execution_count": 58,
   "id": "2cd86bac",
   "metadata": {},
   "outputs": [
    {
     "data": {
      "text/plain": [
       "tensorflow.python.data.ops.dataset_ops.PrefetchDataset"
      ]
     },
     "execution_count": 58,
     "metadata": {},
     "output_type": "execute_result"
    }
   ],
   "source": [
    "type(test_ds)"
   ]
  },
  {
   "cell_type": "code",
   "execution_count": 59,
   "id": "f6d5c752",
   "metadata": {
    "scrolled": true
   },
   "outputs": [
    {
     "name": "stdout",
     "output_type": "stream",
     "text": [
      "16/16 [==============================] - 73s 2s/step - loss: 1.9232 - accuracy: 0.6428\n"
     ]
    },
    {
     "data": {
      "text/plain": [
       "[1.9232177734375, 0.6427850723266602]"
      ]
     },
     "execution_count": 59,
     "metadata": {},
     "output_type": "execute_result"
    }
   ],
   "source": [
    "model.evaluate(test_ds)"
   ]
  },
  {
   "cell_type": "code",
   "execution_count": 71,
   "id": "4380ec1a",
   "metadata": {},
   "outputs": [
    {
     "data": {
      "text/plain": [
       "array(['bkl', 'nv', 'df', 'mel', 'vasc', 'bcc', 'akiec'], dtype=object)"
      ]
     },
     "execution_count": 71,
     "metadata": {},
     "output_type": "execute_result"
    }
   ],
   "source": [
    " meta.dx.unique()"
   ]
  },
  {
   "cell_type": "code",
   "execution_count": null,
   "id": "1077c9cf",
   "metadata": {},
   "outputs": [],
   "source": []
  }
 ],
 "metadata": {
  "kernelspec": {
   "display_name": "Python 3 (ipykernel)",
   "language": "python",
   "name": "python3"
  },
  "language_info": {
   "codemirror_mode": {
    "name": "ipython",
    "version": 3
   },
   "file_extension": ".py",
   "mimetype": "text/x-python",
   "name": "python",
   "nbconvert_exporter": "python",
   "pygments_lexer": "ipython3",
   "version": "3.9.7"
  }
 },
 "nbformat": 4,
 "nbformat_minor": 5
}
